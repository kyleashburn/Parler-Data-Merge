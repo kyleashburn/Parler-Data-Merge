{
 "cells": [
  {
   "cell_type": "code",
   "execution_count": 1,
   "id": "6f9056dd",
   "metadata": {},
   "outputs": [],
   "source": [
    "from lxml import html"
   ]
  },
  {
   "cell_type": "code",
   "execution_count": 56,
   "id": "66d7bff1",
   "metadata": {},
   "outputs": [],
   "source": [
    "# first, I need to read in the file content html to parse it\n",
    "with open(\"post.html\", \"r\") as f_in:\n",
    "    test_html = f_in.read()"
   ]
  },
  {
   "cell_type": "code",
   "execution_count": 57,
   "id": "dc9202c8",
   "metadata": {},
   "outputs": [],
   "source": [
    "tree = html.fromstring(test_html)"
   ]
  },
  {
   "cell_type": "code",
   "execution_count": 81,
   "id": "697d3eed",
   "metadata": {},
   "outputs": [],
   "source": [
    "# who echoed it\n",
    "echoed_by = tree.xpath('//div[contains(@class, \"eb--col eb--statement\")]//span[contains(@class, \"reblock\")]/text()')"
   ]
  },
  {
   "cell_type": "code",
   "execution_count": 59,
   "id": "d5a76408",
   "metadata": {},
   "outputs": [],
   "source": [
    "# when it was echoed\n",
    "when_echoed = tree.xpath('//div[contains(@class, \"eb--col eb--timestamp\")]//span[contains(@class, \"reblock\")]/text()')"
   ]
  },
  {
   "cell_type": "code",
   "execution_count": 84,
   "id": "9d8cb23c",
   "metadata": {},
   "outputs": [],
   "source": [
    "# timestamp\n",
    "timestamp = tree.xpath('//span[contains(@class, \"post--timestamp\")]/text()')"
   ]
  },
  {
   "cell_type": "code",
   "execution_count": null,
   "id": "f4078e8d",
   "metadata": {},
   "outputs": [],
   "source": [
    "'/html/body/main/div/div[1]/div/span[2]/span/div[1]/div[2]/span/span[1]'"
   ]
  },
  {
   "cell_type": "code",
   "execution_count": 78,
   "id": "c6b7c09d",
   "metadata": {},
   "outputs": [],
   "source": [
    "# author\n",
    "author = tree.xpath('//span[contains(@class, \"author--username\")]/text()')"
   ]
  },
  {
   "cell_type": "code",
   "execution_count": 94,
   "id": "dfb37053",
   "metadata": {},
   "outputs": [],
   "source": [
    "# post content -> confirm works with single p tag -> we'll have to figure out how it handles more though\n",
    "content = tree.xpath('//div[contains(@class, \"card--body\")]//p/text()')"
   ]
  },
  {
   "cell_type": "code",
   "execution_count": null,
   "id": "1956c694",
   "metadata": {},
   "outputs": [],
   "source": [
    "# need a way to reflect if is images? Or not worth it?"
   ]
  },
  {
   "cell_type": "code",
   "execution_count": 89,
   "id": "e3716a39",
   "metadata": {},
   "outputs": [],
   "source": [
    "# impressions\n",
    "impressions = tree.xpath('//span[contains(@class, \"impressions--count\")]/text()')"
   ]
  },
  {
   "cell_type": "code",
   "execution_count": 103,
   "id": "b77f7ea3",
   "metadata": {},
   "outputs": [],
   "source": [
    "# post comments\n",
    "comments = tree.xpath('//span[preceding-sibling::img[contains(@alt, \"Post Comments\")]]/text()')"
   ]
  },
  {
   "cell_type": "code",
   "execution_count": 106,
   "id": "6f9d4c86",
   "metadata": {},
   "outputs": [],
   "source": [
    "# post echoes\n",
    "echoes = tree.xpath('//span[preceding-sibling::img[contains(@alt, \"Post Echoes\")]]/text()')"
   ]
  },
  {
   "cell_type": "code",
   "execution_count": 109,
   "id": "717870df",
   "metadata": {},
   "outputs": [],
   "source": [
    "# post upvotes\n",
    "upvotes = tree.xpath('//span[preceding-sibling::img[contains(@alt, \"Post Upvotes\")]]/text()')"
   ]
  }
 ],
 "metadata": {
  "kernelspec": {
   "display_name": "Python 3 (ipykernel)",
   "language": "python",
   "name": "python3"
  },
  "language_info": {
   "codemirror_mode": {
    "name": "ipython",
    "version": 3
   },
   "file_extension": ".py",
   "mimetype": "text/x-python",
   "name": "python",
   "nbconvert_exporter": "python",
   "pygments_lexer": "ipython3",
   "version": "3.8.8"
  }
 },
 "nbformat": 4,
 "nbformat_minor": 5
}
