{
 "cells": [
  {
   "cell_type": "code",
   "execution_count": 8,
   "id": "18af3aa7",
   "metadata": {},
   "outputs": [],
   "source": [
    "import pandas as pd\n",
    "from lxml import html\n",
    "import numpy as np\n",
    "import matplotlib.pyplot as plt\n",
    "import os\n",
    "from pathlib import Path\n",
    "import random"
   ]
  },
  {
   "cell_type": "code",
   "execution_count": 50,
   "id": "979bd9d4",
   "metadata": {},
   "outputs": [],
   "source": [
    "def parler_parse(dataframe):\n",
    "    '''\n",
    "    function to take in the dataframe and parse out the elements we want from the html here\n",
    "    \n",
    "    ---------------\n",
    "    arguments:\n",
    "        dataframe: pd.DataFrame\n",
    "            the dataframe we're working with here of the filenames (index) and the html for each file\n",
    "            \n",
    "    ---------------\n",
    "    returns:\n",
    "        null -> it just operates in place\n",
    "    '''\n",
    "    \n",
    "    # making the tree structure from the html we're using here\n",
    "    tree = html.fromstring(dataframe[\"html\"]) \n",
    "    \n",
    "    \n",
    "    # would seem to need some processing -> remove new lines I'd say\n",
    "    \n",
    "    # who echoed it (fixed)\n",
    "    dataframe[\"echoed_by\"] = tree.xpath('//div[contains(@class, \"eb--col eb--statement\")]//span[contains(@class, \"reblock\")]/text()')\n",
    "\n",
    "    # when it was echoed (fixed)\n",
    "    dataframe[\"when_echoed\"] = tree.xpath('//div[contains(@class, \"eb--col eb--timestamp\")]//span[contains(@class, \"reblock\")]/text()')\n",
    "    \n",
    "    # timestamp (fixed)\n",
    "    dataframe[\"timestamp\"] = tree.xpath('//span[contains(@class, \"post--timestamp\")]/text()')\n",
    "\n",
    "    # author (fixed)\n",
    "    dataframe[\"author\"] = tree.xpath('//span[contains(@class, \"author--username\")]/text()')\n",
    "\n",
    "    # I need to add a check for if there is no text\n",
    "    # post content -> confirm works with single p tag -> we'll have to figure out how it handles more though\n",
    "    dataframe[\"content\"] = tree.xpath('//div[contains(@class, \"card--body\")]//p/text()')\n",
    "\n",
    "    # impressions (fixed)\n",
    "    dataframe[\"impressions\"] = tree.xpath('//span[contains(@class, \"impressions--count\")]/text()')\n",
    "\n",
    "    # post comments (fixed)\n",
    "    dataframe[\"comments\"] = tree.xpath('//span[preceding-sibling::img[contains(@alt, \"Post Comments\")]]/text()')\n",
    "\n",
    "    # post echoes (fixed)\n",
    "    dataframe[\"echoes\"] = tree.xpath('//span[preceding-sibling::img[contains(@alt, \"Post Echoes\")]]/text()')\n",
    "\n",
    "    # post upvotes (fixed)\n",
    "    dataframe[\"upvotes\"] = tree.xpath('//span[preceding-sibling::img[contains(@alt, \"Post Upvotes\")]]/text()')\n",
    "    \n",
    "    return dataframe"
   ]
  },
  {
   "cell_type": "code",
   "execution_count": 5,
   "id": "7983778e",
   "metadata": {},
   "outputs": [],
   "source": [
    "tgtwd = 'C:\\\\Users\\\\ashbu\\\\Desktop\\\\Personal Projects\\\\Parler Data Merge\\\\'"
   ]
  },
  {
   "cell_type": "code",
   "execution_count": 6,
   "id": "84f9a986",
   "metadata": {},
   "outputs": [],
   "source": [
    "post_path = tgtwd +  \"\\parler_2020-01-06_posts-partial\\posts\""
   ]
  },
  {
   "cell_type": "code",
   "execution_count": 9,
   "id": "069ed76e",
   "metadata": {},
   "outputs": [
    {
     "name": "stdout",
     "output_type": "stream",
     "text": [
      "CPU times: total: 2.3 s\n",
      "Wall time: 2.34 s\n"
     ]
    }
   ],
   "source": [
    "%%time\n",
    "rand_samp_1 = random.choices(os.listdir(post_path), k=1000)"
   ]
  },
  {
   "cell_type": "code",
   "execution_count": 10,
   "id": "fd779f4e",
   "metadata": {},
   "outputs": [],
   "source": [
    "rand_files_1 = {file: Path(post_path+\"\\\\\"+file).read_text(encoding=\"utf-8\") for file in rand_samp_1}"
   ]
  },
  {
   "cell_type": "code",
   "execution_count": 12,
   "id": "3ea261e1",
   "metadata": {},
   "outputs": [],
   "source": [
    "rand_df_1 = pd.DataFrame.from_dict(rand_files_1, orient=\"index\")"
   ]
  },
  {
   "cell_type": "code",
   "execution_count": 13,
   "id": "4bfe66ba",
   "metadata": {},
   "outputs": [],
   "source": [
    "rand_df_1 = rand_df_1.rename(columns={0:\"html\"})"
   ]
  },
  {
   "cell_type": "code",
   "execution_count": 51,
   "id": "e01e6e04",
   "metadata": {},
   "outputs": [
    {
     "name": "stdout",
     "output_type": "stream",
     "text": [
      "CPU times: total: 5.48 s\n",
      "Wall time: 5.79 s\n"
     ]
    }
   ],
   "source": [
    "%%time\n",
    "test = rand_df_1.apply(parler_parse, axis=1)"
   ]
  },
  {
   "cell_type": "code",
   "execution_count": null,
   "id": "dabbb26b",
   "metadata": {},
   "outputs": [],
   "source": []
  }
 ],
 "metadata": {
  "kernelspec": {
   "display_name": "Python 3 (ipykernel)",
   "language": "python",
   "name": "python3"
  },
  "language_info": {
   "codemirror_mode": {
    "name": "ipython",
    "version": 3
   },
   "file_extension": ".py",
   "mimetype": "text/x-python",
   "name": "python",
   "nbconvert_exporter": "python",
   "pygments_lexer": "ipython3",
   "version": "3.8.8"
  }
 },
 "nbformat": 4,
 "nbformat_minor": 5
}
